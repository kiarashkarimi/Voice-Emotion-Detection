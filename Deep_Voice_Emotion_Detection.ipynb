{
  "nbformat": 4,
  "nbformat_minor": 0,
  "metadata": {
    "colab": {
      "provenance": [],
      "toc_visible": true,
      "gpuType": "T4"
    },
    "kernelspec": {
      "name": "python3",
      "display_name": "Python 3"
    },
    "language_info": {
      "name": "python"
    },
    "accelerator": "GPU"
  },
  "cells": [
    {
      "cell_type": "markdown",
      "source": [
        "# Imports"
      ],
      "metadata": {
        "id": "HuLKKv5j1FM_"
      }
    },
    {
      "cell_type": "code",
      "source": [
        "!pip install resampy"
      ],
      "metadata": {
        "colab": {
          "base_uri": "https://localhost:8080/"
        },
        "id": "Nu4kTt-Ku-mZ",
        "outputId": "2dee2f52-c35a-4464-cbc5-9dd396fd96c4"
      },
      "execution_count": 1,
      "outputs": [
        {
          "output_type": "stream",
          "name": "stdout",
          "text": [
            "Requirement already satisfied: resampy in /usr/local/lib/python3.10/dist-packages (0.4.3)\n",
            "Requirement already satisfied: numpy>=1.17 in /usr/local/lib/python3.10/dist-packages (from resampy) (1.25.2)\n",
            "Requirement already satisfied: numba>=0.53 in /usr/local/lib/python3.10/dist-packages (from resampy) (0.58.1)\n",
            "Requirement already satisfied: llvmlite<0.42,>=0.41.0dev0 in /usr/local/lib/python3.10/dist-packages (from numba>=0.53->resampy) (0.41.1)\n"
          ]
        }
      ]
    },
    {
      "cell_type": "code",
      "source": [
        "import os\n",
        "import librosa\n",
        "import numpy as np\n",
        "import pandas as pd\n",
        "from sklearn.preprocessing import LabelEncoder\n",
        "from keras.utils import to_categorical\n",
        "from keras.models import Sequential\n",
        "from keras.layers import Dense, LSTM, Dropout\n",
        "from keras.regularizers import l2\n",
        "from keras.optimizers import Adam\n",
        "import matplotlib.pyplot as plt\n",
        "from sklearn.metrics import confusion_matrix, classification_report, roc_curve, auc\n",
        "from itertools import cycle\n",
        "from tensorflow.keras.callbacks import EarlyStopping\n",
        "import seaborn as sns\n",
        "import resampy"
      ],
      "metadata": {
        "id": "Yi1lBXD1pCcS"
      },
      "execution_count": 52,
      "outputs": []
    },
    {
      "cell_type": "markdown",
      "source": [
        "# Feature Extraction Functions\n",
        "\n"
      ],
      "metadata": {
        "id": "N3J7X_zt1J9h"
      }
    },
    {
      "cell_type": "code",
      "source": [
        "train_path = '/content/drive/MyDrive/Voice-Dataset/Voice Emotion Detection/Train/train'\n",
        "test_path = '/content/drive/MyDrive/Voice-Dataset/Voice Emotion Detection/Test/test'\n",
        "test_csv_path = '/content/drive/MyDrive/Voice-Dataset/Voice Emotion Detection/Test/result.csv'"
      ],
      "metadata": {
        "id": "eJ-MXPvBpEGm"
      },
      "execution_count": 3,
      "outputs": []
    },
    {
      "cell_type": "code",
      "source": [
        "# Function to extract MFCC features from audio files\n",
        "def extract_features(file_path):\n",
        "    audio, sample_rate = librosa.load(file_path, res_type='kaiser_fast')\n",
        "    mfccs = librosa.feature.mfcc(y=audio, sr=sample_rate, n_mfcc=40)\n",
        "    mfccs_scaled = np.mean(mfccs.T, axis=0)\n",
        "    return mfccs_scaled"
      ],
      "metadata": {
        "id": "uRLRjNQPpF71"
      },
      "execution_count": 4,
      "outputs": []
    },
    {
      "cell_type": "code",
      "source": [
        "# Function to extract features including gender\n",
        "def extract_features_with_gender(file_path):\n",
        "    audio, sample_rate = librosa.load(file_path, res_type='kaiser_fast')\n",
        "    mfccs = librosa.feature.mfcc(y=audio, sr=sample_rate, n_mfcc=40)\n",
        "    mfccs_scaled = np.mean(mfccs.T, axis=0)\n",
        "    gender = file_path.split('/')[-1].split('.')[0][-2]  # Extract gender from filename\n",
        "    gender_encoded = 0 if gender == 'M' else 1  # Encode gender: M=0, F=1\n",
        "    features = np.append(mfccs_scaled, gender_encoded)\n",
        "    return features"
      ],
      "metadata": {
        "id": "zzqtJ1hGpIbn"
      },
      "execution_count": 5,
      "outputs": []
    },
    {
      "cell_type": "code",
      "source": [
        "# Prepare the training data\n",
        "train_files = os.listdir(train_path)\n",
        "X_train = []\n",
        "y_train = []"
      ],
      "metadata": {
        "id": "RBsA84vipJmK"
      },
      "execution_count": 6,
      "outputs": []
    },
    {
      "cell_type": "code",
      "source": [
        "train_files"
      ],
      "metadata": {
        "colab": {
          "base_uri": "https://localhost:8080/"
        },
        "id": "l8sjqI8IqULr",
        "outputId": "d2cdeb5b-d767-41eb-99ce-42c1d7b7c4fb"
      },
      "execution_count": 7,
      "outputs": [
        {
          "output_type": "execute_result",
          "data": {
            "text/plain": [
              "['1362FA.wav',\n",
              " '1363FN.wav',\n",
              " '1364MN.wav',\n",
              " '1365MW.wav',\n",
              " '1367MW.wav',\n",
              " '1366FW.wav',\n",
              " '1368FA.wav',\n",
              " '1371MN.wav',\n",
              " '1372MA.wav',\n",
              " '1369MN.wav',\n",
              " '1376FA.wav',\n",
              " '1377MN.wav',\n",
              " '1378MA.wav',\n",
              " '1386MN.wav',\n",
              " '1384FS.wav',\n",
              " '1387MN.wav',\n",
              " '1385MA.wav',\n",
              " '1388MS.wav',\n",
              " '1392FH.wav',\n",
              " '1389FH.wav',\n",
              " '1390FN.wav',\n",
              " '1393MA.wav',\n",
              " '1394MN.wav',\n",
              " '1395FS.wav',\n",
              " '1396MN.wav',\n",
              " '1397MA.wav',\n",
              " '1402MA.wav',\n",
              " '1398FA.wav',\n",
              " '1406MN.wav',\n",
              " '1403MA.wav',\n",
              " '1407MN.wav',\n",
              " '1405MA.wav',\n",
              " '1408MS.wav',\n",
              " '1410MH.wav',\n",
              " '1411FA.wav',\n",
              " '1409MS.wav',\n",
              " '1413MA.wav',\n",
              " '1412MN.wav',\n",
              " '1414FA.wav',\n",
              " '1415MA.wav',\n",
              " '1416MH.wav',\n",
              " '1417MA.wav',\n",
              " '1418MA.wav',\n",
              " '1420MN.wav',\n",
              " '1421MN.wav',\n",
              " '1422MN.wav',\n",
              " '1424MS.wav',\n",
              " '1426MN.wav',\n",
              " '1425MN.wav',\n",
              " '1428MN.wav',\n",
              " '1431MA.wav',\n",
              " '1432MA.wav',\n",
              " '1433FN.wav',\n",
              " '1436FW.wav',\n",
              " '1434MN.wav',\n",
              " '1438FA.wav',\n",
              " '1439FN.wav',\n",
              " '1440FN.wav',\n",
              " '1443FN.wav',\n",
              " '1444MN.wav',\n",
              " '1445FS.wav',\n",
              " '1447MS.wav',\n",
              " '1448FH.wav',\n",
              " '1449FA.wav',\n",
              " '1451MA.wav',\n",
              " '1452FA.wav',\n",
              " '1453MN.wav',\n",
              " '1456MH.wav',\n",
              " '1455FH.wav',\n",
              " '1458MH.wav',\n",
              " '1459MA.wav',\n",
              " '1461FA.wav',\n",
              " '1464MN.wav',\n",
              " '1468FA.wav',\n",
              " '1465MH.wav',\n",
              " '1466MS.wav',\n",
              " '1469MN.wav',\n",
              " '1472FA.wav',\n",
              " '1470FA.wav',\n",
              " '1473MA.wav',\n",
              " '1475MN.wav',\n",
              " '1477FA.wav',\n",
              " '1476MA.wav',\n",
              " '1478MA.wav',\n",
              " '1479FA.wav',\n",
              " '1485FA.wav',\n",
              " '1484MH.wav',\n",
              " '1489FN.wav',\n",
              " '1487MA.wav',\n",
              " '1490MA.wav',\n",
              " '1491MA.wav',\n",
              " '1492MH.wav',\n",
              " '1493FA.wav',\n",
              " '1494FA.wav',\n",
              " '1495FA.wav',\n",
              " '1496MS.wav',\n",
              " '1497FH.wav',\n",
              " '1498MW.wav',\n",
              " '1500FA.wav',\n",
              " '1503FW.wav',\n",
              " '1505FA.wav',\n",
              " '1504FN.wav',\n",
              " '1506MN.wav',\n",
              " '1507FN.wav',\n",
              " '1509MN.wav',\n",
              " '1511MA.wav',\n",
              " '1514FS.wav',\n",
              " '1515FA.wav',\n",
              " '1517MS.wav',\n",
              " '1516MN.wav',\n",
              " '1519MA.wav',\n",
              " '1518MA.wav',\n",
              " '1520MN.wav',\n",
              " '1522FS.wav',\n",
              " '1523MS.wav',\n",
              " '1525FS.wav',\n",
              " '1529MA.wav',\n",
              " '1526MN.wav',\n",
              " '1530FW.wav',\n",
              " '1531FN.wav',\n",
              " '1532MN.wav',\n",
              " '1533MW.wav',\n",
              " '1535MN.wav',\n",
              " '1536MN.wav',\n",
              " '1537FA.wav',\n",
              " '1538MW.wav',\n",
              " '1542MA.wav',\n",
              " '1544MN.wav',\n",
              " '1543MN.wav',\n",
              " '1546FW.wav',\n",
              " '1547FA.wav',\n",
              " '1548FS.wav',\n",
              " '1550FA.wav',\n",
              " '1551MS.wav',\n",
              " '1552MN.wav',\n",
              " '1554MA (1).wav',\n",
              " '1556MA (1).wav',\n",
              " '1554MA.wav',\n",
              " '1556MA.wav',\n",
              " '1558FS (1).wav',\n",
              " '1558FS.wav',\n",
              " '1559MN (1).wav',\n",
              " '1560FS.wav',\n",
              " '1559MN.wav',\n",
              " '1565MA.wav',\n",
              " '1567FS (1).wav',\n",
              " '1567FS.wav',\n",
              " '1568MA (1).wav',\n",
              " '1568MA.wav',\n",
              " '1570MN.wav',\n",
              " '1571FH (1).wav',\n",
              " '1571FH.wav',\n",
              " '1572FW.wav',\n",
              " '1573MA.wav',\n",
              " '1575MN.wav',\n",
              " '1576MN.wav',\n",
              " '1577MS.wav',\n",
              " '1578FA.wav',\n",
              " '1580FN.wav',\n",
              " '1579FN.wav',\n",
              " '1582MA.wav',\n",
              " '1583MW.wav',\n",
              " '1584MA.wav',\n",
              " '1587FN.wav',\n",
              " '1590MA.wav',\n",
              " '1588MN.wav',\n",
              " '1591FA.wav',\n",
              " '1593MS.wav',\n",
              " '1594MA.wav',\n",
              " '1597MH.wav',\n",
              " '1595FH.wav',\n",
              " '1599MA.wav',\n",
              " '1603FA.wav',\n",
              " '1601MS.wav',\n",
              " '1605MN.wav',\n",
              " '1604FS.wav',\n",
              " '1607MA.wav',\n",
              " '1610FN.wav',\n",
              " '1609MN.wav',\n",
              " '1611MN.wav',\n",
              " '1613MN.wav',\n",
              " '1615MA.wav',\n",
              " '1617MA.wav',\n",
              " '1612MS.wav',\n",
              " '1618MA.wav',\n",
              " '1619MN.wav',\n",
              " '1620FS.wav',\n",
              " '1622FA.wav',\n",
              " '1623MA.wav',\n",
              " '1624MA.wav',\n",
              " '1625FS.wav',\n",
              " '1626MA.wav',\n",
              " '1627MA.wav',\n",
              " '1628FA.wav',\n",
              " '1630MN.wav',\n",
              " '1629MN.wav',\n",
              " '1631MN.wav',\n",
              " '1632FA.wav',\n",
              " '1633MN.wav',\n",
              " '1638FA.wav',\n",
              " '1636MN.wav',\n",
              " '1639FS.wav',\n",
              " '1641FS.wav',\n",
              " '1643MA.wav',\n",
              " '1644MA.wav',\n",
              " '1642MN.wav',\n",
              " '1647MA.wav',\n",
              " '1649FN.wav',\n",
              " '1651FS.wav',\n",
              " '1650FH.wav',\n",
              " '1652MN.wav',\n",
              " '1653MA.wav',\n",
              " '1654FS.wav',\n",
              " '1656FS.wav',\n",
              " '1657MN.wav',\n",
              " '1661MN.wav',\n",
              " '1660MN.wav',\n",
              " '1658MN.wav',\n",
              " '1662MA.wav',\n",
              " '1664FW.wav',\n",
              " '1663MN.wav',\n",
              " '1665FS.wav',\n",
              " '1666FW.wav',\n",
              " '1667MN.wav',\n",
              " '1669FA.wav',\n",
              " '1668FA.wav',\n",
              " '1671MA.wav',\n",
              " '1670FA.wav',\n",
              " '1672MA.wav',\n",
              " '1675FS.wav',\n",
              " '1674FW.wav',\n",
              " '1676MA.wav',\n",
              " '1678MN.wav',\n",
              " '1680MS.wav',\n",
              " '1679FN.wav',\n",
              " '1684MA.wav',\n",
              " '1685MN.wav',\n",
              " '1682MN.wav',\n",
              " '1686FS.wav',\n",
              " '1687MA.wav',\n",
              " '1688FA.wav',\n",
              " '1689FS.wav',\n",
              " '1690MN.wav',\n",
              " '1691FH.wav',\n",
              " '1692MA.wav',\n",
              " '1696FW.wav',\n",
              " '1697MN.wav',\n",
              " '1695MS.wav',\n",
              " '1699MA.wav',\n",
              " '1698MN.wav',\n",
              " '1700MA.wav',\n",
              " '1702FN.wav',\n",
              " '1701MN.wav',\n",
              " '1704FH.wav',\n",
              " '1705FS.wav',\n",
              " '1707FH.wav',\n",
              " '1708MA.wav',\n",
              " '1709FA.wav',\n",
              " '1711MA.wav',\n",
              " '1714MA.wav',\n",
              " '1710MN.wav',\n",
              " '1717MN.wav',\n",
              " '1718MN.wav',\n",
              " '1721FS.wav',\n",
              " '1722FA.wav',\n",
              " '1723MH.wav',\n",
              " '1725MN.wav',\n",
              " '1726FW.wav',\n",
              " '1727MN.wav',\n",
              " '1729FW.wav',\n",
              " '1731MW.wav',\n",
              " '1732MW.wav',\n",
              " '1734FA.wav',\n",
              " '1735FN.wav',\n",
              " '1733FA.wav',\n",
              " '1738FN.wav',\n",
              " '1739FN.wav',\n",
              " '1742FA.wav',\n",
              " '1740MN.wav',\n",
              " '1743FS.wav',\n",
              " '1747MN.wav',\n",
              " '1748MA.wav',\n",
              " '1744MA.wav',\n",
              " '1749FN.wav',\n",
              " '1754MN.wav',\n",
              " '1752FN.wav',\n",
              " '1755FW.wav',\n",
              " '1756FA.wav',\n",
              " '1758FA.wav',\n",
              " '1760FA.wav',\n",
              " '1757FA.wav',\n",
              " '1761MS.wav',\n",
              " '1763FS.wav',\n",
              " '1764MN.wav',\n",
              " '1767MW.wav',\n",
              " '1768MA.wav',\n",
              " '1770MN.wav',\n",
              " '1769MN.wav',\n",
              " '1771MA.wav',\n",
              " '1772MA.wav',\n",
              " '1774MN.wav',\n",
              " '1773MA.wav',\n",
              " '1775FN.wav',\n",
              " '1776MN.wav',\n",
              " '1779MW.wav',\n",
              " '1782MA.wav',\n",
              " '1777FS.wav',\n",
              " '1780FS.wav',\n",
              " '1783FA.wav',\n",
              " '1786MA.wav',\n",
              " '1784MN.wav',\n",
              " '1787MS.wav',\n",
              " '1788MS.wav',\n",
              " '1789MN.wav',\n",
              " '1790MA.wav',\n",
              " '1792MN.wav',\n",
              " '1794MA.wav',\n",
              " '1793FS.wav',\n",
              " '1796MA.wav',\n",
              " '1799FN.wav',\n",
              " '1797FW.wav',\n",
              " '1802FN.wav',\n",
              " '1800MA.wav',\n",
              " '1803FA.wav',\n",
              " '1804FN.wav',\n",
              " '1806MW.wav',\n",
              " '1805MN.wav',\n",
              " '1807MS.wav',\n",
              " '1816FN.wav',\n",
              " '1813MN.wav',\n",
              " '1815FA.wav',\n",
              " '1810MS.wav',\n",
              " '1812FN.wav',\n",
              " '1817MA.wav',\n",
              " '1818MN.wav',\n",
              " '1819MS.wav',\n",
              " '1824FS.wav',\n",
              " '1829FA.wav',\n",
              " '1822FA.wav',\n",
              " '1828MN.wav',\n",
              " '1833MN.wav',\n",
              " '1832FN.wav',\n",
              " '1835MN.wav',\n",
              " '1834FN.wav',\n",
              " '1838MN.wav',\n",
              " '1837MA.wav',\n",
              " '1841FS.wav',\n",
              " '1840MA.wav',\n",
              " '1839MH.wav',\n",
              " '1847FW.wav',\n",
              " '1848MW.wav',\n",
              " '1844FA.wav',\n",
              " '1849MN.wav',\n",
              " '1843FS.wav',\n",
              " '1852FS.wav',\n",
              " '1851FA.wav',\n",
              " '1853FS.wav',\n",
              " '1855MN.wav',\n",
              " '1856FA.wav',\n",
              " '1857FW.wav',\n",
              " '1858MN.wav',\n",
              " '1859MN.wav',\n",
              " '1861MA.wav',\n",
              " '1860FW.wav',\n",
              " '1864MA.wav',\n",
              " '1863MN.wav',\n",
              " '1865MS.wav',\n",
              " '1870MN.wav',\n",
              " '1866FN.wav',\n",
              " '1867MH.wav',\n",
              " '1871FS.wav',\n",
              " '1874MW.wav',\n",
              " '1873FN.wav',\n",
              " '1875FS.wav',\n",
              " '1879MN.wav',\n",
              " '1882MN.wav',\n",
              " '1877MN.wav',\n",
              " '1880MN.wav',\n",
              " '1883MA.wav',\n",
              " '1884MA.wav',\n",
              " '1892MN.wav',\n",
              " '1887FA.wav',\n",
              " '1890MN.wav',\n",
              " '1886FH.wav',\n",
              " '1895MA.wav',\n",
              " '1894MA.wav',\n",
              " '1893MN.wav',\n",
              " '1897MN.wav',\n",
              " '1898MN.wav',\n",
              " '1901MA.wav',\n",
              " '1900FH.wav',\n",
              " '1899FA.wav',\n",
              " '1902MN.wav',\n",
              " '1905MW.wav',\n",
              " '1907MA.wav',\n",
              " '1910FA.wav',\n",
              " '1909FN.wav',\n",
              " '1912FA.wav',\n",
              " '1906FN.wav',\n",
              " '1916FW.wav',\n",
              " '1914MN.wav',\n",
              " '1915MS.wav',\n",
              " '1918FS.wav',\n",
              " '1913MN.wav',\n",
              " '1917FN.wav',\n",
              " '1922FA.wav',\n",
              " '1920MA.wav',\n",
              " '1923MA.wav',\n",
              " '1921MA.wav',\n",
              " '1924MA.wav',\n",
              " '1925FN.wav',\n",
              " '1926FW.wav',\n",
              " '1928MA.wav',\n",
              " '1929MH.wav',\n",
              " '1930MA.wav',\n",
              " '1932MA.wav',\n",
              " '1934FW.wav',\n",
              " '1933MN.wav',\n",
              " '1935MS.wav',\n",
              " '1938FW.wav',\n",
              " '1936FA.wav',\n",
              " '1939FS.wav',\n",
              " '1940MA.wav',\n",
              " '1943MA.wav',\n",
              " '1942FN.wav',\n",
              " '1941FN.wav',\n",
              " '1946MS.wav',\n",
              " '1944MA.wav',\n",
              " '1945FN.wav',\n",
              " '1948MA.wav',\n",
              " '1949FS.wav',\n",
              " '1951MN.wav',\n",
              " '1957MN.wav',\n",
              " '1950FN.wav',\n",
              " '1952FS.wav',\n",
              " '1954FN.wav',\n",
              " '1960MN.wav',\n",
              " '1964FN.wav',\n",
              " '1966MW.wav',\n",
              " '1961FH.wav',\n",
              " '1965MA.wav',\n",
              " '1967FS.wav',\n",
              " '1969MA.wav',\n",
              " '1973MH.wav',\n",
              " '1975FW.wav',\n",
              " '1983MS.wav',\n",
              " '1982MA.wav',\n",
              " '1976MA.wav',\n",
              " '1985MA.wav',\n",
              " '1984MA.wav',\n",
              " '1986FN.wav',\n",
              " '1987MA.wav',\n",
              " '1988MA.wav',\n",
              " '1989MS.wav',\n",
              " '1991MA.wav',\n",
              " '1992MN.wav',\n",
              " '1993MA.wav',\n",
              " '1990FS.wav',\n",
              " '1995MN.wav',\n",
              " '1994MN.wav',\n",
              " '1996FS.wav',\n",
              " '1997FA.wav',\n",
              " '1998FA.wav',\n",
              " '1999MS.wav',\n",
              " '2001MA.wav',\n",
              " '2003FA.wav',\n",
              " '2002FS.wav',\n",
              " '2006MA.wav',\n",
              " '2004MA.wav',\n",
              " '2009MW.wav',\n",
              " '2007MN.wav',\n",
              " '2010FH.wav',\n",
              " '2012MW.wav',\n",
              " '2014MN.wav',\n",
              " '2018MA.wav',\n",
              " '2015FA.wav',\n",
              " '2016FA.wav',\n",
              " '2019FA.wav',\n",
              " '2020MW.wav',\n",
              " '2021FH.wav',\n",
              " '2022FA.wav',\n",
              " '2024MN.wav',\n",
              " '2027MN.wav',\n",
              " '2029FH.wav',\n",
              " '2030FW.wav',\n",
              " '2026FN.wav',\n",
              " '2028MA.wav',\n",
              " '2033MN.wav',\n",
              " '2037MS.wav',\n",
              " '2035FA.wav',\n",
              " '2034MA.wav',\n",
              " '2039FN.wav',\n",
              " '2040FS.wav',\n",
              " '2041FS.wav',\n",
              " '2042FA.wav',\n",
              " '2043MN.wav',\n",
              " '2045MN.wav',\n",
              " '2047MN.wav',\n",
              " '2048FA.wav',\n",
              " '2050MN.wav',\n",
              " '2054FS.wav',\n",
              " '2049FH.wav',\n",
              " '2056FA.wav',\n",
              " '2059FS.wav',\n",
              " '2061MA.wav',\n",
              " '2057MA.wav',\n",
              " '2058FH.wav',\n",
              " '2062FN.wav',\n",
              " '2063MN.wav',\n",
              " '2068FS.wav',\n",
              " '2067FA.wav',\n",
              " '2064MN.wav',\n",
              " '2072MN.wav',\n",
              " '2071MS.wav',\n",
              " '2070FA.wav',\n",
              " '2073MA.wav',\n",
              " '2076MA.wav',\n",
              " '2077MN.wav',\n",
              " '2078MA.wav',\n",
              " '2081MA.wav',\n",
              " '2082MA.wav',\n",
              " '2083MS.wav',\n",
              " '2089FA.wav',\n",
              " '2088MS.wav',\n",
              " '2090FA.wav',\n",
              " '2086MA.wav',\n",
              " '2095MS.wav',\n",
              " '2093FN.wav',\n",
              " '2092MS.wav',\n",
              " '2096MN.wav',\n",
              " '2097MN.wav',\n",
              " '2098MH.wav',\n",
              " '2101FA.wav',\n",
              " '2100FA.wav',\n",
              " '2103FS.wav',\n",
              " '2102FW.wav',\n",
              " '2104MA.wav',\n",
              " '2106MS.wav',\n",
              " '2105MN.wav',\n",
              " '2107FS.wav',\n",
              " '2108MA.wav',\n",
              " '2110MA.wav',\n",
              " '2109MA.wav',\n",
              " '2114MN.wav',\n",
              " '2111MN.wav',\n",
              " '2112MN.wav',\n",
              " '2113FA.wav',\n",
              " '2115FW.wav',\n",
              " '2116FS.wav',\n",
              " '2118FH.wav',\n",
              " '2117FN.wav',\n",
              " '2119MN.wav',\n",
              " '2120MN.wav',\n",
              " '2121FA.wav',\n",
              " '2123FH.wav',\n",
              " '2126FN.wav',\n",
              " '2129MN.wav',\n",
              " '2125FN.wav',\n",
              " '2127MA.wav',\n",
              " '2124FA.wav',\n",
              " '2130FN.wav',\n",
              " '2133FW.wav',\n",
              " '2135MS.wav',\n",
              " '2134FN.wav',\n",
              " '2137MN.wav',\n",
              " '2136FS.wav',\n",
              " '2138FN.wav',\n",
              " '2140MN.wav',\n",
              " '2143MA.wav',\n",
              " '2141MN.wav',\n",
              " '2142MH.wav',\n",
              " '2145MH.wav',\n",
              " '2150FN.wav',\n",
              " '2151FA.wav',\n",
              " '2148MN.wav',\n",
              " '2152MA.wav',\n",
              " '2153MN.wav',\n",
              " '2154MN.wav',\n",
              " '2157FA.wav',\n",
              " '2155MA.wav',\n",
              " '2161FA.wav',\n",
              " '2160FA.wav',\n",
              " '2158FN.wav',\n",
              " '2163MN.wav',\n",
              " '2165MN.wav',\n",
              " '2167MW.wav',\n",
              " '2168MN.wav',\n",
              " '2169MA.wav',\n",
              " '2170MA.wav',\n",
              " '2171MN.wav',\n",
              " '2172MS.wav',\n",
              " '2175MN.wav',\n",
              " '2174FS.wav',\n",
              " '2173FA.wav',\n",
              " '2176MN.wav',\n",
              " '2178MN.wav',\n",
              " '2181MH.wav',\n",
              " '2177MN.wav',\n",
              " '2179MN.wav',\n",
              " '2185FA.wav',\n",
              " '2183MW.wav',\n",
              " '2180FS.wav',\n",
              " '2190MN.wav',\n",
              " '2188MH.wav',\n",
              " '2186FN.wav',\n",
              " '2189FS.wav',\n",
              " '2192MN.wav',\n",
              " '2191FA.wav',\n",
              " '2195MN.wav',\n",
              " '2196MA.wav',\n",
              " '2197FW.wav',\n",
              " '2198MN.wav',\n",
              " '2199FW.wav',\n",
              " '2200FS.wav',\n",
              " '2201FA.wav',\n",
              " '2207FN.wav',\n",
              " '2203FA.wav',\n",
              " '2202FN.wav',\n",
              " '2209MW.wav',\n",
              " '2208MN.wav',\n",
              " '2210FS.wav',\n",
              " '2214FA.wav',\n",
              " '2211MA.wav',\n",
              " '2213MA.wav',\n",
              " '2215MN.wav',\n",
              " '2218MN.wav',\n",
              " '2217FS.wav',\n",
              " '2216MA.wav',\n",
              " '2219MN.wav',\n",
              " '2220FW.wav',\n",
              " '2221MN.wav',\n",
              " '2224FA.wav',\n",
              " '2225FN.wav',\n",
              " '2227MA.wav',\n",
              " '2226FW.wav',\n",
              " '2228FN.wav',\n",
              " '2232FN.wav',\n",
              " '2233FS.wav',\n",
              " '2234MN.wav',\n",
              " '2237FS.wav',\n",
              " '2236MN.wav',\n",
              " '2238FN.wav',\n",
              " '2241MN.wav',\n",
              " '2239MH.wav',\n",
              " '2242MN.wav',\n",
              " '2244MN.wav',\n",
              " '2246MW.wav',\n",
              " '2247FW.wav',\n",
              " '2249FN.wav',\n",
              " '2250FA.wav',\n",
              " '2251MN.wav',\n",
              " '2253MA.wav',\n",
              " '2252MN.wav',\n",
              " '2260MA.wav',\n",
              " '2257MA.wav',\n",
              " '2254FS.wav',\n",
              " '2256FN.wav',\n",
              " '2262MA.wav',\n",
              " '2263FA.wav',\n",
              " '2258MA.wav',\n",
              " '2267MN.wav',\n",
              " '2265FA.wav',\n",
              " '2269FW.wav',\n",
              " '2271MN.wav',\n",
              " '2270FN.wav',\n",
              " '2272FS.wav',\n",
              " '2274MN.wav',\n",
              " '2275MW.wav',\n",
              " '2273MS.wav',\n",
              " '2278MA.wav',\n",
              " '2279MA.wav',\n",
              " '2276FS.wav',\n",
              " '2280MA.wav',\n",
              " '2281MH.wav',\n",
              " '2283MA.wav',\n",
              " '2282FS.wav',\n",
              " '2286MA.wav',\n",
              " '2284FN.wav',\n",
              " '2287FW.wav',\n",
              " '2288FN.wav',\n",
              " '2289FH.wav',\n",
              " '2291FN.wav',\n",
              " '2290MS.wav',\n",
              " '2293MN.wav',\n",
              " '2292FN.wav',\n",
              " '2294MS.wav',\n",
              " '2295FA.wav',\n",
              " '2296FA.wav',\n",
              " '2298MA.wav',\n",
              " '2297MW.wav',\n",
              " '2299MN.wav',\n",
              " '2300MN.wav',\n",
              " '2301MA.wav',\n",
              " '2305MS.wav',\n",
              " '2304FN.wav',\n",
              " '2308MN.wav',\n",
              " '2309FN.wav',\n",
              " '2311MA.wav',\n",
              " '2312FN.wav',\n",
              " '2314FH.wav',\n",
              " '2318FN.wav',\n",
              " '2316MS.wav',\n",
              " '2320FA.wav',\n",
              " '2319MN.wav',\n",
              " '2322FA.wav',\n",
              " '2323FA.wav',\n",
              " '2326FA.wav',\n",
              " '2327FA.wav',\n",
              " '2328MA.wav',\n",
              " '2329MN.wav',\n",
              " '2331MA.wav',\n",
              " '2330MA.wav',\n",
              " '2332FN.wav',\n",
              " '2335MN.wav',\n",
              " '2336MS.wav',\n",
              " '2337MA.wav',\n",
              " '2334FN.wav',\n",
              " '2342FW.wav',\n",
              " '2340FS.wav',\n",
              " '2341MA.wav',\n",
              " '2343MH.wav',\n",
              " '2345MN.wav',\n",
              " '2346FN.wav',\n",
              " '2344MN.wav',\n",
              " '2349FH.wav',\n",
              " '2348MA.wav',\n",
              " '2347MA.wav',\n",
              " '2350MA.wav',\n",
              " '2351MS.wav',\n",
              " '2353FA.wav',\n",
              " '2354FS.wav',\n",
              " '2357FH.wav',\n",
              " '2355FH.wav',\n",
              " '2361FW.wav',\n",
              " '2360MN.wav',\n",
              " '2356MN.wav',\n",
              " '2362FN.wav',\n",
              " '2364MN.wav',\n",
              " '2363MS.wav',\n",
              " '2367MA.wav',\n",
              " '2365MS.wav',\n",
              " '2368FA.wav',\n",
              " '2370FN.wav',\n",
              " '2369FA.wav',\n",
              " '2371FS.wav',\n",
              " '2372MN.wav',\n",
              " '2373MS.wav',\n",
              " '2374FN.wav',\n",
              " '2376MN.wav',\n",
              " '2378MN.wav',\n",
              " '2381FA.wav',\n",
              " '2379FA.wav',\n",
              " '2387FN.wav',\n",
              " '2388FN.wav',\n",
              " '2391MN.wav',\n",
              " '2390MS.wav',\n",
              " '2393FS.wav',\n",
              " '2398MA.wav',\n",
              " '2394MA.wav',\n",
              " '2396FW.wav',\n",
              " '2399FS.wav',\n",
              " '2402FN.wav',\n",
              " '2400MN.wav',\n",
              " '2408MN.wav',\n",
              " '2409FA.wav',\n",
              " '2403FA.wav',\n",
              " '2404FA.wav',\n",
              " '2406FS.wav',\n",
              " '2410FN.wav',\n",
              " '2411FA.wav',\n",
              " '2413MN.wav',\n",
              " '2414MN.wav',\n",
              " '2415FA.wav',\n",
              " '2416MN.wav',\n",
              " '2417MS.wav',\n",
              " '2418FW.wav',\n",
              " '2419FA.wav',\n",
              " '2420MN.wav',\n",
              " '2422MN.wav',\n",
              " '2423MA.wav',\n",
              " '2425MN.wav',\n",
              " '2421MN.wav',\n",
              " '2427FA.wav',\n",
              " '2431MN.wav',\n",
              " '2432MA.wav',\n",
              " '2433FW.wav',\n",
              " '2434MA.wav',\n",
              " '2436FS.wav',\n",
              " '2437MN.wav',\n",
              " '2435MA.wav',\n",
              " '2438MN.wav',\n",
              " '2443FH.wav',\n",
              " '2440MA.wav',\n",
              " '2439FA.wav',\n",
              " '2441MA.wav',\n",
              " '2442MA.wav',\n",
              " '2444MA.wav',\n",
              " '2445MN.wav',\n",
              " '2447FW.wav',\n",
              " '2449FW.wav',\n",
              " '2452MS.wav',\n",
              " '2453MW.wav',\n",
              " '2455MA.wav',\n",
              " '2456MN.wav',\n",
              " '2454FS.wav',\n",
              " '2457FA.wav',\n",
              " '2459FN.wav',\n",
              " '2458FS.wav',\n",
              " '2462FS.wav',\n",
              " '2463FA.wav',\n",
              " '2461MN.wav',\n",
              " '2464MN.wav',\n",
              " '2466FA.wav',\n",
              " '2465MN.wav',\n",
              " '2467MA.wav',\n",
              " '2468MA.wav',\n",
              " '2470FH.wav',\n",
              " '2471MS.wav',\n",
              " '2472MN.wav',\n",
              " '2475FH.wav',\n",
              " '2473FA.wav',\n",
              " '2477FS.wav',\n",
              " '2479FN.wav',\n",
              " '2476MA.wav',\n",
              " '2481MN.wav',\n",
              " '2482FA.wav',\n",
              " '2485FA.wav',\n",
              " '2480MN.wav',\n",
              " '2484FA.wav',\n",
              " '2483MN.wav',\n",
              " '2486MN.wav',\n",
              " '2487FA.wav',\n",
              " '2488MW.wav',\n",
              " '2489MN.wav',\n",
              " '2491MW.wav',\n",
              " '2492FA.wav',\n",
              " '2493FS.wav',\n",
              " '2494FA.wav',\n",
              " '2500MA.wav',\n",
              " '2499MN.wav',\n",
              " '2501MA.wav',\n",
              " '2502MA.wav',\n",
              " '2503FA.wav',\n",
              " '2504MS.wav',\n",
              " '2506MA.wav',\n",
              " '2508MW.wav',\n",
              " '2509FA.wav',\n",
              " '2510FS.wav',\n",
              " '2512FS.wav',\n",
              " '2514FA.wav',\n",
              " '2513FA.wav',\n",
              " '2516MS.wav',\n",
              " '2515FA.wav',\n",
              " '2518MS.wav',\n",
              " '2521FN.wav',\n",
              " '2525FA.wav',\n",
              " '2524MN.wav',\n",
              " '2530FN.wav',\n",
              " '2527MN.wav',\n",
              " '2526MN.wav',\n",
              " '2531FA.wav',\n",
              " '2532MA.wav',\n",
              " '2533FA.wav',\n",
              " '2535FA.wav',\n",
              " '2536MN.wav',\n",
              " '2539MN.wav',\n",
              " '2542MN.wav',\n",
              " '2537FA.wav',\n",
              " '2544MH.wav',\n",
              " '2543MS.wav',\n",
              " '2546MN.wav',\n",
              " '2547FS.wav',\n",
              " '2545FA.wav',\n",
              " '2549MW.wav',\n",
              " '2548FS.wav',\n",
              " '2552MN.wav',\n",
              " '2553MA.wav',\n",
              " '2550MN.wav',\n",
              " '2554MH.wav',\n",
              " '2557MN.wav',\n",
              " '2558MA.wav',\n",
              " '2555MN.wav',\n",
              " '2559FS.wav',\n",
              " '2560MN.wav',\n",
              " '2562FN.wav',\n",
              " '2565MA.wav',\n",
              " '2564FA.wav',\n",
              " '2563FS.wav',\n",
              " '2566FH.wav',\n",
              " '2570MW.wav',\n",
              " '2569FA.wav',\n",
              " '2572FW.wav',\n",
              " '2573MS.wav',\n",
              " '2575FS.wav',\n",
              " '2576MN.wav',\n",
              " '2578MN.wav',\n",
              " '2577FA.wav',\n",
              " '2580MN.wav',\n",
              " '2583FA.wav',\n",
              " '2584FA.wav',\n",
              " '2582MA.wav',\n",
              " '2585MN.wav',\n",
              " '2581FN.wav',\n",
              " '2586MN.wav',\n",
              " '2588MN.wav',\n",
              " '2589FN.wav',\n",
              " '2590MN.wav',\n",
              " '2592FS.wav',\n",
              " '2591FN.wav',\n",
              " '2596FS.wav',\n",
              " '2595MA.wav',\n",
              " '2597MA.wav',\n",
              " '2599MA.wav',\n",
              " '2598MN.wav',\n",
              " '2601MA.wav',\n",
              " '2602FA.wav',\n",
              " '2605MA.wav',\n",
              " '2604MS.wav',\n",
              " '2607MN.wav',\n",
              " '2609MA.wav',\n",
              " '2608MN.wav',\n",
              " '2610MN.wav',\n",
              " '2611MN.wav',\n",
              " '2613FN.wav',\n",
              " '2612FA.wav',\n",
              " '2614MN.wav',\n",
              " '2615FA.wav',\n",
              " '2620FS.wav',\n",
              " '2616FA.wav',\n",
              " '2624FN.wav',\n",
              " '2622FA.wav',\n",
              " '2626FN.wav',\n",
              " '2621MN.wav',\n",
              " '2628MH.wav',\n",
              " '2627MA.wav',\n",
              " '2629MH.wav',\n",
              " '2633MN.wav',\n",
              " '2630MN.wav',\n",
              " '2634MW.wav',\n",
              " '2635FN.wav',\n",
              " '2632FS.wav',\n",
              " '2636MN.wav',\n",
              " '2637FA.wav',\n",
              " '2640FA.wav',\n",
              " '2641FN.wav',\n",
              " '2638MN.wav',\n",
              " '2642MS.wav',\n",
              " '2644MA.wav',\n",
              " '2645MN.wav',\n",
              " '2646MS.wav',\n",
              " '2649MS.wav',\n",
              " '2648MA.wav',\n",
              " '2652FS.wav',\n",
              " '2650FS.wav',\n",
              " '2643FN.wav',\n",
              " '2653MA.wav',\n",
              " '2656FA.wav',\n",
              " '2655MA.wav',\n",
              " '2658MN.wav',\n",
              " '2657MN.wav',\n",
              " '2661FW.wav',\n",
              " '2659FA.wav',\n",
              " '2660FN.wav',\n",
              " '2665FA.wav',\n",
              " '2670FN.wav',\n",
              " '2663FA.wav',\n",
              " '2668MA.wav',\n",
              " '2672FA.wav',\n",
              " '2666MA.wav',\n",
              " '2674FS.wav',\n",
              " '2673FS.wav',\n",
              " '2671MN.wav',\n",
              " '2675MN.wav',\n",
              " '2677FW.wav',\n",
              " '2678MN.wav',\n",
              " '2679FA.wav',\n",
              " '2680FA.wav',\n",
              " '2681FW.wav',\n",
              " '2682MN.wav',\n",
              " '2686MN.wav',\n",
              " '2689FA.wav',\n",
              " '2692MA.wav',\n",
              " '2693MN.wav',\n",
              " '2696FN.wav',\n",
              " '2698MA.wav',\n",
              " '2700MN.wav',\n",
              " '2694MN.wav',\n",
              " '2699FN.wav',\n",
              " '2703MN.wav',\n",
              " '2704MN.wav',\n",
              " '0015MN.wav',\n",
              " '0265MN.wav',\n",
              " '0189MN.wav',\n",
              " '0771MS.wav',\n",
              " '0945MA.wav',\n",
              " '1042FA.wav',\n",
              " '1112FS.wav',\n",
              " '1795MA.wav',\n",
              " '2084MN.wav',\n",
              " '2702MN.wav',\n",
              " ...]"
            ]
          },
          "metadata": {},
          "execution_count": 7
        }
      ]
    },
    {
      "cell_type": "markdown",
      "source": [
        "# Pre Processing Phase"
      ],
      "metadata": {
        "id": "sEBLD14o1W-u"
      }
    },
    {
      "cell_type": "code",
      "source": [
        "for file in train_files:\n",
        "    if file.endswith('.wav'):\n",
        "        file_path = os.path.join(train_path, file)\n",
        "        features = extract_features(file_path)\n",
        "        X_train.append(features)\n",
        "        emotion = file.split('.')[0][-1]\n",
        "        y_train.append(emotion)"
      ],
      "metadata": {
        "id": "MOhbSx1ppLxY"
      },
      "execution_count": 8,
      "outputs": []
    },
    {
      "cell_type": "code",
      "source": [
        "X_train = np.array(X_train)\n",
        "y_train = np.array(y_train)"
      ],
      "metadata": {
        "id": "hhLurBSypNkH"
      },
      "execution_count": 9,
      "outputs": []
    },
    {
      "cell_type": "markdown",
      "source": [
        "## Encode the labels"
      ],
      "metadata": {
        "id": "9KZgeUhN1gB3"
      }
    },
    {
      "cell_type": "code",
      "source": [
        "encoder = LabelEncoder()\n",
        "y_train = encoder.fit_transform(y_train)\n",
        "y_train = to_categorical(y_train)"
      ],
      "metadata": {
        "id": "u956fYS0pOmB"
      },
      "execution_count": 10,
      "outputs": []
    },
    {
      "cell_type": "markdown",
      "source": [
        "## Print the shape of the training data\n"
      ],
      "metadata": {
        "id": "VJI8TAI71iqf"
      }
    },
    {
      "cell_type": "code",
      "source": [
        "print(\"Shape of X_train: \", X_train.shape)\n",
        "print(\"Shape of y_train: \", y_train.shape)"
      ],
      "metadata": {
        "colab": {
          "base_uri": "https://localhost:8080/"
        },
        "id": "mrPsGiEapPsl",
        "outputId": "0bed13b1-0b20-4d78-d229-96df15eb60f2"
      },
      "execution_count": 11,
      "outputs": [
        {
          "output_type": "stream",
          "name": "stdout",
          "text": [
            "Shape of X_train:  (1998, 40)\n",
            "Shape of y_train:  (1998, 6)\n"
          ]
        }
      ]
    },
    {
      "cell_type": "markdown",
      "source": [
        "# LSTM Model"
      ],
      "metadata": {
        "id": "6i40n-iY1cXP"
      }
    },
    {
      "cell_type": "code",
      "source": [
        "model = Sequential()\n",
        "model.add(LSTM(128, return_sequences=True, input_shape=(X_train.shape[1], 1), kernel_regularizer=l2(0.001)))\n",
        "model.add(Dropout(0.6))\n",
        "model.add(LSTM(128, kernel_regularizer=l2(0.001)))\n",
        "model.add(Dropout(0.6))\n",
        "model.add(Dense(y_train.shape[1], activation='softmax', kernel_regularizer=l2(0.001)))"
      ],
      "metadata": {
        "id": "CPg10nKXpQzj"
      },
      "execution_count": 14,
      "outputs": []
    },
    {
      "cell_type": "markdown",
      "source": [
        "## Compile the model"
      ],
      "metadata": {
        "id": "ZgKg7U6D1k6n"
      }
    },
    {
      "cell_type": "code",
      "source": [
        "model.compile(loss='categorical_crossentropy', optimizer=Adam(learning_rate=0.001), metrics=['accuracy'])"
      ],
      "metadata": {
        "id": "WOHU8koct9Fe"
      },
      "execution_count": 15,
      "outputs": []
    },
    {
      "cell_type": "markdown",
      "source": [
        "## Set up early stopping\n"
      ],
      "metadata": {
        "id": "DkHNkSBE1n8c"
      }
    },
    {
      "cell_type": "code",
      "source": [
        "early_stopping = EarlyStopping(monitor='val_loss', patience=10, restore_best_weights=True)"
      ],
      "metadata": {
        "id": "oo_N8bPEcwlN"
      },
      "execution_count": 21,
      "outputs": []
    },
    {
      "cell_type": "markdown",
      "source": [
        "## Train the model\n"
      ],
      "metadata": {
        "id": "d70sxbDM1sLj"
      }
    },
    {
      "cell_type": "code",
      "source": [
        "history = model.fit(X_train, y_train, epochs=200, batch_size=32, validation_split=0.2, callbacks=[early_stopping])"
      ],
      "metadata": {
        "colab": {
          "base_uri": "https://localhost:8080/"
        },
        "id": "a65H3jMUt-PN",
        "outputId": "79101218-0b8e-4b37-8463-177b730538b8"
      },
      "execution_count": 22,
      "outputs": [
        {
          "output_type": "stream",
          "name": "stdout",
          "text": [
            "Epoch 1/200\n",
            "50/50 [==============================] - 8s 32ms/step - loss: 1.5955 - accuracy: 0.5075 - val_loss: 1.4325 - val_accuracy: 0.5475\n",
            "Epoch 2/200\n",
            "50/50 [==============================] - 0s 9ms/step - loss: 1.4823 - accuracy: 0.5232 - val_loss: 1.3954 - val_accuracy: 0.5475\n",
            "Epoch 3/200\n",
            "50/50 [==============================] - 0s 9ms/step - loss: 1.4067 - accuracy: 0.5432 - val_loss: 1.2236 - val_accuracy: 0.6025\n",
            "Epoch 4/200\n",
            "50/50 [==============================] - 0s 10ms/step - loss: 1.3019 - accuracy: 0.5851 - val_loss: 1.1833 - val_accuracy: 0.6250\n",
            "Epoch 5/200\n",
            "50/50 [==============================] - 0s 9ms/step - loss: 1.2321 - accuracy: 0.5989 - val_loss: 1.1763 - val_accuracy: 0.6300\n",
            "Epoch 6/200\n",
            "50/50 [==============================] - 0s 9ms/step - loss: 1.2128 - accuracy: 0.6058 - val_loss: 1.1437 - val_accuracy: 0.6300\n",
            "Epoch 7/200\n",
            "50/50 [==============================] - 0s 10ms/step - loss: 1.1879 - accuracy: 0.6126 - val_loss: 1.1188 - val_accuracy: 0.6350\n",
            "Epoch 8/200\n",
            "50/50 [==============================] - 0s 10ms/step - loss: 1.1582 - accuracy: 0.6270 - val_loss: 1.1108 - val_accuracy: 0.6300\n",
            "Epoch 9/200\n",
            "50/50 [==============================] - 0s 9ms/step - loss: 1.1344 - accuracy: 0.6320 - val_loss: 1.0676 - val_accuracy: 0.6300\n",
            "Epoch 10/200\n",
            "50/50 [==============================] - 0s 9ms/step - loss: 1.1102 - accuracy: 0.6395 - val_loss: 1.0940 - val_accuracy: 0.6375\n",
            "Epoch 11/200\n",
            "50/50 [==============================] - 0s 9ms/step - loss: 1.1049 - accuracy: 0.6302 - val_loss: 1.0678 - val_accuracy: 0.6500\n",
            "Epoch 12/200\n",
            "50/50 [==============================] - 0s 9ms/step - loss: 1.0933 - accuracy: 0.6339 - val_loss: 1.0867 - val_accuracy: 0.6475\n",
            "Epoch 13/200\n",
            "50/50 [==============================] - 0s 9ms/step - loss: 1.0641 - accuracy: 0.6483 - val_loss: 1.0271 - val_accuracy: 0.6650\n",
            "Epoch 14/200\n",
            "50/50 [==============================] - 0s 10ms/step - loss: 1.0466 - accuracy: 0.6471 - val_loss: 1.0502 - val_accuracy: 0.6450\n",
            "Epoch 15/200\n",
            "50/50 [==============================] - 0s 9ms/step - loss: 1.0406 - accuracy: 0.6489 - val_loss: 1.0231 - val_accuracy: 0.6750\n",
            "Epoch 16/200\n",
            "50/50 [==============================] - 0s 10ms/step - loss: 1.0181 - accuracy: 0.6740 - val_loss: 1.0421 - val_accuracy: 0.6675\n",
            "Epoch 17/200\n",
            "50/50 [==============================] - 1s 11ms/step - loss: 1.0096 - accuracy: 0.6615 - val_loss: 1.0676 - val_accuracy: 0.6825\n",
            "Epoch 18/200\n",
            "50/50 [==============================] - 1s 13ms/step - loss: 1.0149 - accuracy: 0.6646 - val_loss: 1.0420 - val_accuracy: 0.6700\n",
            "Epoch 19/200\n",
            "50/50 [==============================] - 1s 13ms/step - loss: 0.9861 - accuracy: 0.6727 - val_loss: 1.0229 - val_accuracy: 0.6850\n",
            "Epoch 20/200\n",
            "50/50 [==============================] - 1s 12ms/step - loss: 0.9681 - accuracy: 0.6834 - val_loss: 1.0150 - val_accuracy: 0.6725\n",
            "Epoch 21/200\n",
            "50/50 [==============================] - 1s 16ms/step - loss: 0.9766 - accuracy: 0.6809 - val_loss: 1.0498 - val_accuracy: 0.6625\n",
            "Epoch 22/200\n",
            "50/50 [==============================] - 1s 14ms/step - loss: 0.9590 - accuracy: 0.6959 - val_loss: 0.9915 - val_accuracy: 0.6725\n",
            "Epoch 23/200\n",
            "50/50 [==============================] - 1s 10ms/step - loss: 0.9572 - accuracy: 0.6865 - val_loss: 1.0048 - val_accuracy: 0.6750\n",
            "Epoch 24/200\n",
            "50/50 [==============================] - 0s 10ms/step - loss: 0.9383 - accuracy: 0.6884 - val_loss: 1.0144 - val_accuracy: 0.6825\n",
            "Epoch 25/200\n",
            "50/50 [==============================] - 0s 9ms/step - loss: 0.9354 - accuracy: 0.6940 - val_loss: 1.0154 - val_accuracy: 0.6875\n",
            "Epoch 26/200\n",
            "50/50 [==============================] - 1s 11ms/step - loss: 0.9296 - accuracy: 0.6946 - val_loss: 0.9995 - val_accuracy: 0.6750\n",
            "Epoch 27/200\n",
            "50/50 [==============================] - 0s 9ms/step - loss: 0.9151 - accuracy: 0.7028 - val_loss: 1.0504 - val_accuracy: 0.6650\n",
            "Epoch 28/200\n",
            "50/50 [==============================] - 0s 9ms/step - loss: 0.9092 - accuracy: 0.6996 - val_loss: 1.0163 - val_accuracy: 0.6775\n",
            "Epoch 29/200\n",
            "50/50 [==============================] - 0s 9ms/step - loss: 0.9284 - accuracy: 0.6984 - val_loss: 1.0110 - val_accuracy: 0.6700\n",
            "Epoch 30/200\n",
            "50/50 [==============================] - 0s 9ms/step - loss: 0.8568 - accuracy: 0.7222 - val_loss: 1.0293 - val_accuracy: 0.6625\n",
            "Epoch 31/200\n",
            "50/50 [==============================] - 0s 9ms/step - loss: 0.8684 - accuracy: 0.7222 - val_loss: 1.0152 - val_accuracy: 0.6775\n",
            "Epoch 32/200\n",
            "50/50 [==============================] - 0s 9ms/step - loss: 0.8505 - accuracy: 0.7272 - val_loss: 1.0553 - val_accuracy: 0.6975\n"
          ]
        }
      ]
    },
    {
      "cell_type": "markdown",
      "source": [
        "# Plotting training history"
      ],
      "metadata": {
        "id": "TvnKgv431ujP"
      }
    },
    {
      "cell_type": "code",
      "source": [
        "plt.figure(figsize=(14, 5))\n",
        "plt.subplot(1, 2, 1)\n",
        "plt.plot(history.history['accuracy'])\n",
        "plt.plot(history.history['val_accuracy'])\n",
        "plt.title('Model accuracy')\n",
        "plt.xlabel('Epoch')\n",
        "plt.ylabel('Accuracy')\n",
        "plt.legend(['Train', 'Validation'], loc='upper left')"
      ],
      "metadata": {
        "colab": {
          "base_uri": "https://localhost:8080/",
          "height": 504
        },
        "id": "VJUgXLE8t_e8",
        "outputId": "559e95bc-c904-4cd1-ee15-e1afe2e90972"
      },
      "execution_count": 23,
      "outputs": [
        {
          "output_type": "execute_result",
          "data": {
            "text/plain": [
              "<matplotlib.legend.Legend at 0x7c657ff66c20>"
            ]
          },
          "metadata": {},
          "execution_count": 23
        },
        {
          "output_type": "display_data",
          "data": {
            "text/plain": [
              "<Figure size 1400x500 with 1 Axes>"
            ],
            "image/png": "[encoded data removed]"
          },
          "metadata": {}
        }
      ]
    },
    {
      "cell_type": "code",
      "source": [
        "plt.subplot(1, 2, 2)\n",
        "plt.plot(history.history['loss'])\n",
        "plt.plot(history.history['val_loss'])\n",
        "plt.title('Model loss')\n",
        "plt.xlabel('Epoch')\n",
        "plt.ylabel('Loss')\n",
        "plt.legend(['Train', 'Validation'], loc='upper left')\n",
        "plt.show()"
      ],
      "metadata": {
        "colab": {
          "base_uri": "https://localhost:8080/",
          "height": 472
        },
        "id": "8tQujEw_uCMD",
        "outputId": "ac48f904-2753-438f-86e1-9c9d76f53a8e"
      },
      "execution_count": 24,
      "outputs": [
        {
          "output_type": "display_data",
          "data": {
            "text/plain": [
              "<Figure size 640x480 with 1 Axes>"
            ],
            "image/png": "[encoded data removed]"
          },
          "metadata": {}
        }
      ]
    },
    {
      "cell_type": "markdown",
      "source": [
        "# Load the test CSV file"
      ],
      "metadata": {
        "id": "PrpQQPCS1zA9"
      }
    },
    {
      "cell_type": "code",
      "source": [
        "test_results = pd.read_csv(test_csv_path)"
      ],
      "metadata": {
        "id": "Ta91YAFXuDrX"
      },
      "execution_count": 25,
      "outputs": []
    },
    {
      "cell_type": "markdown",
      "source": [
        "## Prepare the test data using the result.csv file\n"
      ],
      "metadata": {
        "id": "fpp5vk-C134-"
      }
    },
    {
      "cell_type": "code",
      "source": [
        "X_test = []\n",
        "y_test = []"
      ],
      "metadata": {
        "id": "wlMPzT-VuEyv"
      },
      "execution_count": 26,
      "outputs": []
    },
    {
      "cell_type": "code",
      "source": [
        "for index, row in test_results.iterrows():\n",
        "    file_id = row['Id']\n",
        "    emotion = row['label']\n",
        "    file_path = os.path.join(test_path, f\"{file_id}.wav\")\n",
        "    if os.path.exists(file_path):\n",
        "        features = extract_features(file_path)\n",
        "        X_test.append(features)\n",
        "        y_test.append(emotion)"
      ],
      "metadata": {
        "id": "150ZcLtAuGH8"
      },
      "execution_count": 27,
      "outputs": []
    },
    {
      "cell_type": "code",
      "source": [
        "X_test = np.array(X_test)\n",
        "y_test = np.array(y_test)"
      ],
      "metadata": {
        "id": "wjlzBZpSuMqE"
      },
      "execution_count": 28,
      "outputs": []
    },
    {
      "cell_type": "markdown",
      "source": [
        "## Encode the test labels"
      ],
      "metadata": {
        "id": "Lyn2xPLZ18Ox"
      }
    },
    {
      "cell_type": "code",
      "source": [
        "y_test = encoder.transform(y_test)\n",
        "y_test = to_categorical(y_test)"
      ],
      "metadata": {
        "id": "2LpBPF0IuNyy"
      },
      "execution_count": 29,
      "outputs": []
    },
    {
      "cell_type": "markdown",
      "source": [
        "# Evaluate the model\n"
      ],
      "metadata": {
        "id": "FdLnzLOj1_RC"
      }
    },
    {
      "cell_type": "code",
      "source": [
        "test_loss, test_accuracy = model.evaluate(X_test, y_test)\n",
        "print(\"Test Accuracy: \", test_accuracy)"
      ],
      "metadata": {
        "colab": {
          "base_uri": "https://localhost:8080/"
        },
        "id": "_UyHMVgMuQRh",
        "outputId": "b26df613-12d0-4f4f-abcf-f2146655fd7d"
      },
      "execution_count": 30,
      "outputs": [
        {
          "output_type": "stream",
          "name": "stdout",
          "text": [
            "8/8 [==============================] - 0s 6ms/step - loss: 1.0381 - accuracy: 0.6726\n",
            "Test Accuracy:  0.6725663542747498\n"
          ]
        }
      ]
    },
    {
      "cell_type": "markdown",
      "source": [
        "# Prepare the training data with gender"
      ],
      "metadata": {
        "id": "9PQ53tCv2C6s"
      }
    },
    {
      "cell_type": "code",
      "source": [
        "X_train_with_gender = []"
      ],
      "metadata": {
        "id": "_Okg6giPuQLb"
      },
      "execution_count": 31,
      "outputs": []
    },
    {
      "cell_type": "code",
      "source": [
        "for file in train_files:\n",
        "    if file.endswith('.wav'):\n",
        "        file_path = os.path.join(train_path, file)\n",
        "        features = extract_features_with_gender(file_path)\n",
        "        X_train_with_gender.append(features)"
      ],
      "metadata": {
        "id": "3TzsNjh5uTCB"
      },
      "execution_count": 32,
      "outputs": []
    },
    {
      "cell_type": "code",
      "source": [
        "X_train_with_gender = np.array(X_train_with_gender)"
      ],
      "metadata": {
        "id": "l09GBF6fuUZc"
      },
      "execution_count": 33,
      "outputs": []
    },
    {
      "cell_type": "markdown",
      "source": [
        "## Define the model with gender feature and regularization"
      ],
      "metadata": {
        "id": "75vgVIxE2H5R"
      }
    },
    {
      "cell_type": "code",
      "source": [
        "model_with_gender = Sequential()\n",
        "model_with_gender.add(LSTM(128, return_sequences=True, input_shape=(X_train_with_gender.shape[1], 1), kernel_regularizer=l2(0.001)))\n",
        "model_with_gender.add(Dropout(0.6))\n",
        "model_with_gender.add(LSTM(128, kernel_regularizer=l2(0.001)))\n",
        "model_with_gender.add(Dropout(0.6))\n",
        "model_with_gender.add(Dense(y_train.shape[1], activation='softmax', kernel_regularizer=l2(0.001)))"
      ],
      "metadata": {
        "id": "Dx0lP4S-uWYG"
      },
      "execution_count": 34,
      "outputs": []
    },
    {
      "cell_type": "markdown",
      "source": [
        "## Compile and train the model with gender"
      ],
      "metadata": {
        "id": "wGUrHvTS2LHk"
      }
    },
    {
      "cell_type": "code",
      "source": [
        "model_with_gender.compile(loss='categorical_crossentropy', optimizer=Adam(learning_rate=0.001), metrics=['accuracy'])\n",
        "history_with_gender = model_with_gender.fit(X_train_with_gender, y_train, epochs=200, batch_size=32, validation_split=0.2, callbacks=[early_stopping])"
      ],
      "metadata": {
        "colab": {
          "base_uri": "https://localhost:8080/"
        },
        "id": "ynji--YmuYSo",
        "outputId": "50a72ba8-e652-4c46-a074-1ce4da255d08"
      },
      "execution_count": 35,
      "outputs": [
        {
          "output_type": "stream",
          "name": "stdout",
          "text": [
            "Epoch 1/200\n",
            "50/50 [==============================] - 5s 26ms/step - loss: 1.6189 - accuracy: 0.4937 - val_loss: 1.4360 - val_accuracy: 0.5400\n",
            "Epoch 2/200\n",
            "50/50 [==============================] - 0s 10ms/step - loss: 1.4897 - accuracy: 0.5156 - val_loss: 1.3836 - val_accuracy: 0.5475\n",
            "Epoch 3/200\n",
            "50/50 [==============================] - 1s 10ms/step - loss: 1.4319 - accuracy: 0.5250 - val_loss: 1.3463 - val_accuracy: 0.5700\n",
            "Epoch 4/200\n",
            "50/50 [==============================] - 0s 9ms/step - loss: 1.3702 - accuracy: 0.5451 - val_loss: 1.2253 - val_accuracy: 0.6175\n",
            "Epoch 5/200\n",
            "50/50 [==============================] - 0s 10ms/step - loss: 1.2493 - accuracy: 0.6039 - val_loss: 1.1509 - val_accuracy: 0.6300\n",
            "Epoch 6/200\n",
            "50/50 [==============================] - 0s 9ms/step - loss: 1.1987 - accuracy: 0.6133 - val_loss: 1.1561 - val_accuracy: 0.6300\n",
            "Epoch 7/200\n",
            "50/50 [==============================] - 0s 9ms/step - loss: 1.1725 - accuracy: 0.6295 - val_loss: 1.1054 - val_accuracy: 0.6450\n",
            "Epoch 8/200\n",
            "50/50 [==============================] - 0s 9ms/step - loss: 1.1597 - accuracy: 0.6277 - val_loss: 1.1003 - val_accuracy: 0.6425\n",
            "Epoch 9/200\n",
            "50/50 [==============================] - 0s 9ms/step - loss: 1.1158 - accuracy: 0.6333 - val_loss: 1.0788 - val_accuracy: 0.6425\n",
            "Epoch 10/200\n",
            "50/50 [==============================] - 0s 9ms/step - loss: 1.0989 - accuracy: 0.6333 - val_loss: 1.1210 - val_accuracy: 0.6550\n",
            "Epoch 11/200\n",
            "50/50 [==============================] - 1s 13ms/step - loss: 1.0828 - accuracy: 0.6446 - val_loss: 1.0560 - val_accuracy: 0.6650\n",
            "Epoch 12/200\n",
            "50/50 [==============================] - 1s 14ms/step - loss: 1.0849 - accuracy: 0.6477 - val_loss: 1.0389 - val_accuracy: 0.6500\n",
            "Epoch 13/200\n",
            "50/50 [==============================] - 1s 12ms/step - loss: 1.0782 - accuracy: 0.6589 - val_loss: 1.0556 - val_accuracy: 0.6700\n",
            "Epoch 14/200\n",
            "50/50 [==============================] - 1s 14ms/step - loss: 1.0273 - accuracy: 0.6696 - val_loss: 1.0603 - val_accuracy: 0.6550\n",
            "Epoch 15/200\n",
            "50/50 [==============================] - 1s 15ms/step - loss: 1.0165 - accuracy: 0.6802 - val_loss: 1.0547 - val_accuracy: 0.6575\n",
            "Epoch 16/200\n",
            "50/50 [==============================] - 1s 14ms/step - loss: 1.0139 - accuracy: 0.6583 - val_loss: 1.0427 - val_accuracy: 0.6825\n",
            "Epoch 17/200\n",
            "50/50 [==============================] - 0s 9ms/step - loss: 1.0308 - accuracy: 0.6665 - val_loss: 0.9864 - val_accuracy: 0.6775\n",
            "Epoch 18/200\n",
            "50/50 [==============================] - 0s 9ms/step - loss: 0.9753 - accuracy: 0.6890 - val_loss: 0.9950 - val_accuracy: 0.6825\n",
            "Epoch 19/200\n",
            "50/50 [==============================] - 0s 9ms/step - loss: 0.9958 - accuracy: 0.6702 - val_loss: 1.0350 - val_accuracy: 0.6750\n",
            "Epoch 20/200\n",
            "50/50 [==============================] - 1s 10ms/step - loss: 0.9723 - accuracy: 0.6834 - val_loss: 1.0703 - val_accuracy: 0.6350\n",
            "Epoch 21/200\n",
            "50/50 [==============================] - 0s 9ms/step - loss: 0.9836 - accuracy: 0.6877 - val_loss: 1.0077 - val_accuracy: 0.7000\n",
            "Epoch 22/200\n",
            "50/50 [==============================] - 0s 10ms/step - loss: 0.9593 - accuracy: 0.6859 - val_loss: 1.0542 - val_accuracy: 0.6550\n",
            "Epoch 23/200\n",
            "50/50 [==============================] - 0s 9ms/step - loss: 0.9853 - accuracy: 0.6758 - val_loss: 1.0332 - val_accuracy: 0.6625\n",
            "Epoch 24/200\n",
            "50/50 [==============================] - 0s 10ms/step - loss: 0.9434 - accuracy: 0.6915 - val_loss: 1.0429 - val_accuracy: 0.6575\n",
            "Epoch 25/200\n",
            "50/50 [==============================] - 0s 9ms/step - loss: 0.9337 - accuracy: 0.6965 - val_loss: 0.9984 - val_accuracy: 0.6900\n",
            "Epoch 26/200\n",
            "50/50 [==============================] - 0s 10ms/step - loss: 0.9173 - accuracy: 0.6927 - val_loss: 1.0409 - val_accuracy: 0.6800\n",
            "Epoch 27/200\n",
            "50/50 [==============================] - 0s 9ms/step - loss: 0.9080 - accuracy: 0.7003 - val_loss: 1.0186 - val_accuracy: 0.6700\n"
          ]
        }
      ]
    },
    {
      "cell_type": "markdown",
      "source": [
        "# Prepare the test data with gender"
      ],
      "metadata": {
        "id": "AoJ5n8Es2OED"
      }
    },
    {
      "cell_type": "code",
      "source": [
        "X_test_with_gender = []"
      ],
      "metadata": {
        "id": "81Srq3EHuZy3"
      },
      "execution_count": 36,
      "outputs": []
    },
    {
      "cell_type": "code",
      "source": [
        "for index, row in test_results.iterrows():\n",
        "    file_id = row['Id']\n",
        "    emotion = row['label']\n",
        "    file_path = os.path.join(test_path, f\"{file_id}.wav\")\n",
        "    if os.path.exists(file_path):\n",
        "        features = extract_features_with_gender(file_path)\n",
        "        X_test_with_gender.append(features)"
      ],
      "metadata": {
        "id": "_2Lu9xUiub5d"
      },
      "execution_count": 37,
      "outputs": []
    },
    {
      "cell_type": "markdown",
      "source": [
        "# Test Accuracy"
      ],
      "metadata": {
        "id": "5FautI2I2RYg"
      }
    },
    {
      "cell_type": "code",
      "source": [
        "X_test_with_gender = np.array(X_test_with_gender)\n",
        "test_loss_with_gender, test_accuracy_with_gender = model_with_gender.evaluate(X_test_with_gender, y_test)\n",
        "print(\"Test Accuracy with Gender: \", test_accuracy_with_gender)"
      ],
      "metadata": {
        "colab": {
          "base_uri": "https://localhost:8080/"
        },
        "id": "Zyaf3cxvueI5",
        "outputId": "359a7981-1333-401e-fda9-d2e754745699"
      },
      "execution_count": 38,
      "outputs": [
        {
          "output_type": "stream",
          "name": "stdout",
          "text": [
            "8/8 [==============================] - 0s 7ms/step - loss: 1.0710 - accuracy: 0.6681\n",
            "Test Accuracy with Gender:  0.6681416034698486\n"
          ]
        }
      ]
    },
    {
      "cell_type": "markdown",
      "source": [
        "# Confusion matrix"
      ],
      "metadata": {
        "id": "Zj_3Ig4X2QYc"
      }
    },
    {
      "cell_type": "code",
      "source": [
        "y_pred = model_with_gender.predict(X_test_with_gender)\n",
        "y_pred_classes = np.argmax(y_pred, axis=1)\n",
        "y_true = np.argmax(y_test, axis=1)"
      ],
      "metadata": {
        "colab": {
          "base_uri": "https://localhost:8080/"
        },
        "id": "YMZPV6PQufoT",
        "outputId": "bce64fae-4dd1-46fb-818d-e81574af0b36"
      },
      "execution_count": 39,
      "outputs": [
        {
          "output_type": "stream",
          "name": "stdout",
          "text": [
            "8/8 [==============================] - 1s 5ms/step\n"
          ]
        }
      ]
    },
    {
      "cell_type": "code",
      "source": [
        "conf_matrix = confusion_matrix(y_true, y_pred_classes)\n",
        "plt.figure(figsize=(10, 8))\n",
        "sns.heatmap(conf_matrix, annot=True, fmt='d', cmap='Blues')\n",
        "plt.ylabel('Actual')\n",
        "plt.xlabel('Predicted')\n",
        "plt.title('Confusion Matrix')\n",
        "plt.show()"
      ],
      "metadata": {
        "colab": {
          "base_uri": "https://localhost:8080/",
          "height": 718
        },
        "id": "snWo789BuhkA",
        "outputId": "350e38b0-c7a1-46cf-e6c4-c4e2c8fdf35b"
      },
      "execution_count": 40,
      "outputs": [
        {
          "output_type": "display_data",
          "data": {
            "text/plain": [
              "<Figure size 1000x800 with 2 Axes>"
            ],
            "image/png": "[encoded data removed]"
          },
          "metadata": {}
        }
      ]
    },
    {
      "cell_type": "markdown",
      "source": [
        "# ROC Curve and AUC"
      ],
      "metadata": {
        "id": "qxTFbD0U2WPX"
      }
    },
    {
      "cell_type": "code",
      "source": [
        "fpr = dict()\n",
        "tpr = dict()\n",
        "roc_auc = dict()\n",
        "n_classes = y_train.shape[1]"
      ],
      "metadata": {
        "id": "QvktrbklhYs9"
      },
      "execution_count": 47,
      "outputs": []
    },
    {
      "cell_type": "code",
      "source": [
        "for i in range(n_classes):\n",
        "    fpr[i], tpr[i], _ = roc_curve(y_test[:, i], y_pred[:, i])\n",
        "    roc_auc[i] = auc(fpr[i], tpr[i])"
      ],
      "metadata": {
        "colab": {
          "base_uri": "https://localhost:8080/"
        },
        "id": "VMBF3DeTly3x",
        "outputId": "8e3a3287-0b90-48d0-e357-b944ed072df9"
      },
      "execution_count": 54,
      "outputs": [
        {
          "output_type": "stream",
          "name": "stderr",
          "text": [
            "/usr/local/lib/python3.10/dist-packages/sklearn/metrics/_ranking.py:1029: UndefinedMetricWarning: No positive samples in y_true, true positive value should be meaningless\n",
            "  warnings.warn(\n"
          ]
        }
      ]
    },
    {
      "cell_type": "markdown",
      "source": [
        "## Compute micro-average ROC curve and ROC area"
      ],
      "metadata": {
        "id": "Nm8FAUGo2ZjH"
      }
    },
    {
      "cell_type": "code",
      "source": [
        "fpr[\"micro\"], tpr[\"micro\"], _ = roc_curve(y_test.ravel(), y_pred.ravel())\n",
        "roc_auc[\"micro\"] = auc(fpr[\"micro\"], tpr[\"micro\"])"
      ],
      "metadata": {
        "id": "D0xqX15MhZ-u"
      },
      "execution_count": 55,
      "outputs": []
    },
    {
      "cell_type": "markdown",
      "source": [
        "## Plot ROC curves"
      ],
      "metadata": {
        "id": "_DuKNxEL2bxh"
      }
    },
    {
      "cell_type": "code",
      "source": [
        "plt.figure(figsize=(10, 8))\n",
        "colors = cycle(['aqua', 'darkorange', 'cornflowerblue', 'red', 'green', 'blue'])\n",
        "for i, color in zip(range(n_classes), colors):\n",
        "    plt.plot(fpr[i], tpr[i], color=color, lw=2, label='ROC curve of class {0} (area = {1:0.2f})'.format(i, roc_auc[i]))\n",
        "\n",
        "plt.plot([0, 1], [0, 1], 'k--', lw=2)\n",
        "plt.xlim([0.0, 1.0])\n",
        "plt.ylim([0.0, 1.05])\n",
        "plt.xlabel('False Positive Rate')\n",
        "plt.ylabel('True Positive Rate')\n",
        "plt.title('Receiver Operating Characteristic (ROC) Curves')\n",
        "plt.legend(loc=\"lower right\")\n",
        "plt.show()"
      ],
      "metadata": {
        "colab": {
          "base_uri": "https://localhost:8080/",
          "height": 718
        },
        "id": "d3HzJhCGhbpM",
        "outputId": "4dc809ec-9327-4947-a775-d10dff36d543"
      },
      "execution_count": 56,
      "outputs": [
        {
          "output_type": "display_data",
          "data": {
            "text/plain": [
              "<Figure size 1000x800 with 1 Axes>"
            ],
            "image/png": "[encoded data removed]"
          },
          "metadata": {}
        }
      ]
    }
  ]
}